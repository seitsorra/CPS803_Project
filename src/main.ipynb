{
 "cells": [
  {
   "cell_type": "code",
   "execution_count": 9,
   "metadata": {
    "scrolled": true
   },
   "outputs": [
    {
     "name": "stdout",
     "output_type": "stream",
     "text": [
      "(891, 12)\n"
     ]
    },
    {
     "data": {
      "text/plain": [
       "S    644\n",
       "C    168\n",
       "Q     77\n",
       "Name: Embarked, dtype: int64"
      ]
     },
     "execution_count": 9,
     "metadata": {},
     "output_type": "execute_result"
    }
   ],
   "source": [
    "import numpy as np\n",
    "import pandas as pd\n",
    "import matplotlib.pyplot as plt\n",
    "\n",
    "train = pd.read_csv(\"../data/train.csv\")\n",
    "print(train.shape)\n",
    "train.Embarked.value_counts()"
   ]
  },
  {
   "cell_type": "code",
   "execution_count": 2,
   "metadata": {},
   "outputs": [
    {
     "data": {
      "text/html": [
       "<div>\n",
       "<style scoped>\n",
       "    .dataframe tbody tr th:only-of-type {\n",
       "        vertical-align: middle;\n",
       "    }\n",
       "\n",
       "    .dataframe tbody tr th {\n",
       "        vertical-align: top;\n",
       "    }\n",
       "\n",
       "    .dataframe thead th {\n",
       "        text-align: right;\n",
       "    }\n",
       "</style>\n",
       "<table border=\"1\" class=\"dataframe\">\n",
       "  <thead>\n",
       "    <tr style=\"text-align: right;\">\n",
       "      <th></th>\n",
       "      <th>PassengerId</th>\n",
       "      <th>Pclass</th>\n",
       "      <th>Name</th>\n",
       "      <th>Sex</th>\n",
       "      <th>Age</th>\n",
       "      <th>SibSp</th>\n",
       "      <th>Parch</th>\n",
       "      <th>Ticket</th>\n",
       "      <th>Fare</th>\n",
       "      <th>Cabin</th>\n",
       "      <th>Embarked</th>\n",
       "    </tr>\n",
       "  </thead>\n",
       "  <tbody>\n",
       "    <tr>\n",
       "      <th>0</th>\n",
       "      <td>892</td>\n",
       "      <td>3</td>\n",
       "      <td>Kelly, Mr. James</td>\n",
       "      <td>male</td>\n",
       "      <td>34.5</td>\n",
       "      <td>0</td>\n",
       "      <td>0</td>\n",
       "      <td>330911</td>\n",
       "      <td>7.8292</td>\n",
       "      <td>NaN</td>\n",
       "      <td>Q</td>\n",
       "    </tr>\n",
       "    <tr>\n",
       "      <th>1</th>\n",
       "      <td>893</td>\n",
       "      <td>3</td>\n",
       "      <td>Wilkes, Mrs. James (Ellen Needs)</td>\n",
       "      <td>female</td>\n",
       "      <td>47.0</td>\n",
       "      <td>1</td>\n",
       "      <td>0</td>\n",
       "      <td>363272</td>\n",
       "      <td>7.0000</td>\n",
       "      <td>NaN</td>\n",
       "      <td>S</td>\n",
       "    </tr>\n",
       "    <tr>\n",
       "      <th>2</th>\n",
       "      <td>894</td>\n",
       "      <td>2</td>\n",
       "      <td>Myles, Mr. Thomas Francis</td>\n",
       "      <td>male</td>\n",
       "      <td>62.0</td>\n",
       "      <td>0</td>\n",
       "      <td>0</td>\n",
       "      <td>240276</td>\n",
       "      <td>9.6875</td>\n",
       "      <td>NaN</td>\n",
       "      <td>Q</td>\n",
       "    </tr>\n",
       "    <tr>\n",
       "      <th>3</th>\n",
       "      <td>895</td>\n",
       "      <td>3</td>\n",
       "      <td>Wirz, Mr. Albert</td>\n",
       "      <td>male</td>\n",
       "      <td>27.0</td>\n",
       "      <td>0</td>\n",
       "      <td>0</td>\n",
       "      <td>315154</td>\n",
       "      <td>8.6625</td>\n",
       "      <td>NaN</td>\n",
       "      <td>S</td>\n",
       "    </tr>\n",
       "    <tr>\n",
       "      <th>4</th>\n",
       "      <td>896</td>\n",
       "      <td>3</td>\n",
       "      <td>Hirvonen, Mrs. Alexander (Helga E Lindqvist)</td>\n",
       "      <td>female</td>\n",
       "      <td>22.0</td>\n",
       "      <td>1</td>\n",
       "      <td>1</td>\n",
       "      <td>3101298</td>\n",
       "      <td>12.2875</td>\n",
       "      <td>NaN</td>\n",
       "      <td>S</td>\n",
       "    </tr>\n",
       "  </tbody>\n",
       "</table>\n",
       "</div>"
      ],
      "text/plain": [
       "   PassengerId  Pclass                                          Name     Sex  \\\n",
       "0          892       3                              Kelly, Mr. James    male   \n",
       "1          893       3              Wilkes, Mrs. James (Ellen Needs)  female   \n",
       "2          894       2                     Myles, Mr. Thomas Francis    male   \n",
       "3          895       3                              Wirz, Mr. Albert    male   \n",
       "4          896       3  Hirvonen, Mrs. Alexander (Helga E Lindqvist)  female   \n",
       "\n",
       "    Age  SibSp  Parch   Ticket     Fare Cabin Embarked  \n",
       "0  34.5      0      0   330911   7.8292   NaN        Q  \n",
       "1  47.0      1      0   363272   7.0000   NaN        S  \n",
       "2  62.0      0      0   240276   9.6875   NaN        Q  \n",
       "3  27.0      0      0   315154   8.6625   NaN        S  \n",
       "4  22.0      1      1  3101298  12.2875   NaN        S  "
      ]
     },
     "execution_count": 2,
     "metadata": {},
     "output_type": "execute_result"
    }
   ],
   "source": [
    "test_data = pd.read_csv(\"../data/test.csv\")\n",
    "test_data.head()"
   ]
  },
  {
   "cell_type": "markdown",
   "metadata": {},
   "source": [
    "## Some quick statistics on dataset"
   ]
  },
  {
   "cell_type": "code",
   "execution_count": 4,
   "metadata": {},
   "outputs": [
    {
     "data": {
      "image/png": "[encoded data removed]",
      "text/plain": [
       "<Figure size 432x288 with 1 Axes>"
      ]
     },
     "metadata": {},
     "output_type": "display_data"
    }
   ],
   "source": [
    "survived = len(train.loc[train.Survived == 1])\n",
    "total = len(train)\n",
    "\n",
    "# Pie chart, where the slices will be ordered and plotted counter-clockwise:\n",
    "labels = 'Survived', 'Died'\n",
    "sizes = [survived, total-survived]\n",
    "\n",
    "fig1, ax1 = plt.subplots()\n",
    "ax1.pie(sizes, labels=labels, autopct='%1.1f%%')\n",
    "ax1.axis('equal')  # Equal aspect ratio ensures that pie is drawn as a circle.\n",
    "fig1.savefig(\"../img/survive_ratio.png\")\n",
    "plt.show()\n",
    "\n",
    "\n"
   ]
  },
  {
   "cell_type": "code",
   "execution_count": null,
   "metadata": {},
   "outputs": [],
   "source": [
    "women = train.loc[train.Sex == 'female'][\"Survived\"]\n",
    "men = train.loc[train.Sex == 'male'][\"Survived\"]\n",
    "\n",
    "# creating the dataset\n",
    "labels = ['Female', 'Men']\n",
    "ratios = [sum(women)/len(women), sum(men)/len(men)]\n",
    "ratios_fmt = [\"{:.2%}\".format(val) for val in ratios]\n",
    "  \n",
    "fig = plt.figure(figsize = (6, 4))\n",
    "bars = plt.bar(labels, ratios, color ='lightblue', width = 0.4)\n",
    "for i in range(len(size)):\n",
    "    plt.text(i, ratios[i], ratios_fmt[i], ha = 'center')\n",
    "\n",
    "# plt.xlabel(\"Ratio surviver by gender\")\n",
    "plt.ylabel(\"Percentage\")\n",
    "plt.title(\"Surviving Ratio by gender\")\n",
    "plt.savefig(\"../img/surviving_rate_by_gender.png\", dpi=100)"
   ]
  },
  {
   "cell_type": "code",
   "execution_count": 49,
   "metadata": {},
   "outputs": [
    {
     "name": "stdout",
     "output_type": "stream",
     "text": [
      "1000\n",
      "group\n",
      "18-30    23.654971\n",
      "30-50    40.189922\n",
      "50-99    75.028021\n",
      "Name: age, dtype: float64\n"
     ]
    },
    {
     "data": {
      "image/png": "[encoded data removed]",
      "text/plain": [
       "<Figure size 432x288 with 1 Axes>"
      ]
     },
     "metadata": {},
     "output_type": "display_data"
    }
   ],
   "source": [
    "from data_visualization import *\n",
    "\n",
    "N = 1000\n",
    "df = pd.DataFrame({'age': np.random.randint(18, 99, N),\n",
    "                   'revenue': 20 + 200*np.abs(np.random.randn(N))})\n",
    "\n",
    "\n",
    "df['group'] = pd.cut(df['age'], bins = [18, 30, 50, 99], include_lowest = True, labels = ['18-30', '30-50', '50-99'])\n",
    "print(len(df['age']))\n",
    "df = df.groupby(by = 'group').mean()\n",
    "\n",
    "print((df['age']))\n",
    "fig, ax = plt.subplots()\n",
    "\n",
    "ax.bar(x = df.index, height = df['revenue'])\n",
    "\n",
    "plt.show()\n",
    "\n",
    "\n"
   ]
  },
  {
   "cell_type": "code",
   "execution_count": 125,
   "metadata": {},
   "outputs": [
    {
     "data": {
      "image/png": "[encoded data removed]",
      "text/plain": [
       "<Figure size 432x288 with 1 Axes>"
      ]
     },
     "metadata": {},
     "output_type": "display_data"
    }
   ],
   "source": [
    "bins= [0,2,4,13,20,110]\n",
    "labels = ['Infant','Toddler','Kid','Teen','Adult']\n",
    "\n",
    "age_groups = pd.cut(train['Age'], bins=bins, labels=labels, right=False, retbins=True)\n",
    "\n",
    "data = {l : 0 for l in labels}\n",
    "data[\"Unknown\"] = age_groups[0].size - age_groups[0].count()\n",
    "for _, value in age_groups[0].dropna().items():\n",
    "    data[value] += 1\n",
    "\n",
    "\n",
    "# creating the dataset\n",
    "labels = list(data.keys())\n",
    "values = list(data.values())\n",
    "  \n",
    "fig = plt.figure(figsize = (6, 4))\n",
    "bars = plt.bar(labels, values, color ='lightblue', width = 0.4)\n",
    "for i in range(len(values)):\n",
    "    plt.text(i, values[i], values[i], ha = 'center')\n",
    "\n",
    "# plt.xlabel(\"Ratio surviver by gender\")\n",
    "plt.ylabel(\"Number\")\n",
    "plt.title(\"Age distribution of training data\")\n",
    "plt.savefig(\"../img/age_distribution.png\", dpi=100)"
   ]
  },
  {
   "cell_type": "code",
   "execution_count": 189,
   "metadata": {},
   "outputs": [
    {
     "name": "stdout",
     "output_type": "stream",
     "text": [
      "{'Adult': 211, 'Infant': 12, 'Kid': 20, 'Teen': 39, 'Toddler': 8, 'Unknown': 52}\n",
      "{'Adult': 339, 'Infant': 2, 'Kid': 19, 'Teen': 56, 'Toddler': 8, 'Unknown': 125}\n"
     ]
    },
    {
     "data": {
      "image/png": "[encoded data removed]",
      "text/plain": [
       "<Figure size 1008x576 with 1 Axes>"
      ]
     },
     "metadata": {},
     "output_type": "display_data"
    }
   ],
   "source": [
    "bins= [0,2,4,13,20,110]\n",
    "labels = ['Infant','Toddler','Kid','Teen','Adult']\n",
    "\n",
    "age_groups = pd.cut(train['Age'], bins=bins, labels=labels, right=False, retbins=True)[0]\n",
    "train['AgeGroup'] = age_groups\n",
    "train['AgeGroup'].replace(np.nan, 'Unknown', inplace=True)\n",
    "\n",
    "groupByAge = train.groupby('AgeGroup')\n",
    "survival = groupByAge['Survived'].value_counts()\n",
    "survivedData = {}\n",
    "diedData = {}\n",
    "for l, v in survival.items():\n",
    "    if l[1] == 0:\n",
    "        diedData[l[0]] = v\n",
    "    else:\n",
    "        survivedData[l[0]] = v\n",
    "\n",
    "print(survivedData)\n",
    "print(diedData)\n",
    "\n",
    "df = pd.DataFrame({\n",
    "    'Age Group' : list(survivedData.keys()),\n",
    "    'Survived' : list(survivedData.values()),\n",
    "    'Died' : list(diedData.values())\n",
    "})\n",
    "fig = df.plot(x=\"Age Group\", y=[\"Survived\", \"Died\"], color=[\"g\",\"r\"], kind=\"bar\", figsize=(14, 8)).get_figure()\n",
    "fig.savefig(\"../img/survive_vs_dead_by_age_greoup.png\")\n",
    "\n",
    "# ages = train['AgeGroup'].value_counts()\n",
    "# ages['Adult']"
   ]
  },
  {
   "cell_type": "code",
   "execution_count": 207,
   "metadata": {},
   "outputs": [
    {
     "name": "stdout",
     "output_type": "stream",
     "text": [
      "<class 'pandas.core.frame.DataFrame'>\n",
      "RangeIndex: 891 entries, 0 to 890\n",
      "Data columns (total 13 columns):\n",
      "PassengerId    891 non-null int64\n",
      "Survived       891 non-null int64\n",
      "Pclass         891 non-null int64\n",
      "Name           891 non-null object\n",
      "Sex            891 non-null object\n",
      "Age            714 non-null float64\n",
      "SibSp          891 non-null int64\n",
      "Parch          891 non-null int64\n",
      "Ticket         891 non-null object\n",
      "Fare           891 non-null float64\n",
      "Cabin          204 non-null object\n",
      "Embarked       889 non-null object\n",
      "AgeGroup       891 non-null object\n",
      "dtypes: float64(2), int64(5), object(6)\n",
      "memory usage: 90.6+ KB\n"
     ]
    }
   ],
   "source": [
    "fil = train.isna()\n",
    "train.info()"
   ]
  },
  {
   "cell_type": "code",
   "execution_count": 21,
   "metadata": {},
   "outputs": [
    {
     "name": "stdout",
     "output_type": "stream",
     "text": [
      "<class 'pandas.core.frame.DataFrame'>\n",
      "RangeIndex: 711 entries, 0 to 710\n",
      "Data columns (total 17 columns):\n",
      " #   Column          Non-Null Count  Dtype   \n",
      "---  ------          --------------  -----   \n",
      " 0   PassengerId     711 non-null    int64   \n",
      " 1   Survived        711 non-null    int64   \n",
      " 2   Pclass          711 non-null    object  \n",
      " 3   Name            711 non-null    object  \n",
      " 4   Sex             711 non-null    object  \n",
      " 5   Age             563 non-null    float64 \n",
      " 6   SibSp           711 non-null    int64   \n",
      " 7   Parch           711 non-null    int64   \n",
      " 8   Ticket          711 non-null    object  \n",
      " 9   Fare            711 non-null    float64 \n",
      " 10  Cabin           169 non-null    object  \n",
      " 11  Embarked        711 non-null    object  \n",
      " 12  AgeGroup        563 non-null    category\n",
      " 13  name_title      711 non-null    object  \n",
      " 14  cabin_multiple  711 non-null    int64   \n",
      " 15  cabin_adv       711 non-null    object  \n",
      " 16  numeric_ticket  711 non-null    int64   \n",
      "dtypes: category(1), float64(2), int64(6), object(8)\n",
      "memory usage: 89.9+ KB\n"
     ]
    }
   ],
   "source": [
    "import util\n",
    "\n",
    "filename = \"../data/train.csv\"\n",
    "\n",
    "train, valid, test = util.load_data(filename)\n",
    "train.info()\n",
    "\n"
   ]
  },
  {
   "cell_type": "code",
   "execution_count": 22,
   "metadata": {},
   "outputs": [],
   "source": [
    "import util"
   ]
  },
  {
   "cell_type": "code",
   "execution_count": 1,
   "metadata": {},
   "outputs": [
    {
     "ename": "ModuleNotFoundError",
     "evalue": "No module named 'keras'",
     "output_type": "error",
     "traceback": [
      "\u001b[1;31m---------------------------------------------------------------------------\u001b[0m",
      "\u001b[1;31mModuleNotFoundError\u001b[0m                       Traceback (most recent call last)",
      "\u001b[1;32m<ipython-input-1-b9e2c8277ae4>\u001b[0m in \u001b[0;36m<module>\u001b[1;34m()\u001b[0m\n\u001b[1;32m----> 1\u001b[1;33m \u001b[1;32mfrom\u001b[0m \u001b[0mkeras\u001b[0m\u001b[1;33m.\u001b[0m\u001b[0mmodels\u001b[0m \u001b[1;32mimport\u001b[0m \u001b[0mSequential\u001b[0m\u001b[1;33m\u001b[0m\u001b[0m\n\u001b[0m\u001b[0;32m      2\u001b[0m \u001b[1;32mfrom\u001b[0m \u001b[0mkeras\u001b[0m\u001b[1;33m.\u001b[0m\u001b[0mlayers\u001b[0m \u001b[1;32mimport\u001b[0m \u001b[0mDense\u001b[0m\u001b[1;33m\u001b[0m\u001b[0m\n",
      "\u001b[1;31mModuleNotFoundError\u001b[0m: No module named 'keras'"
     ]
    }
   ],
   "source": [
    "from keras.models import Sequential\n",
    "from keras.layers import Dense"
   ]
  },
  {
   "cell_type": "code",
   "execution_count": null,
   "metadata": {},
   "outputs": [],
   "source": []
  }
 ],
 "metadata": {
  "interpreter": {
   "hash": "4e109ef7d02b78112cf81edcb9c1d96d498f910d066cd1696356e38546cd7013"
  },
  "kernelspec": {
   "display_name": "Python 3",
   "language": "python",
   "name": "python3"
  },
  "language_info": {
   "codemirror_mode": {
    "name": "ipython",
    "version": 3
   },
   "file_extension": ".py",
   "mimetype": "text/x-python",
   "name": "python",
   "nbconvert_exporter": "python",
   "pygments_lexer": "ipython3",
   "version": "3.6.5"
  }
 },
 "nbformat": 4,
 "nbformat_minor": 2
}
