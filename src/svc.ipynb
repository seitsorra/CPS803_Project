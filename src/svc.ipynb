{
 "cells": [
  {
   "cell_type": "code",
   "execution_count": 17,
   "source": [
    "import util\r\n",
    "import numpy as np\r\n",
    "import matplotlib.pyplot as plt\r\n",
    "import seaborn as sns\r\n",
    "import pandas as pd\r\n",
    "\r\n",
    "from sklearn.svm import SVC\r\n",
    "from sklearn.metrics import confusion_matrix, classification_report, log_loss\r\n",
    "from sklearn.model_selection import GridSearchCV"
   ],
   "outputs": [],
   "metadata": {}
  },
  {
   "cell_type": "code",
   "execution_count": 18,
   "source": [
    "filename = \"../data/train_cleaned_1.csv\"\r\n",
    "\r\n",
    "data = util.load(filename)\r\n",
    "\r\n",
    "x_train, y_train = data[0]\r\n",
    "x_valid, y_valid = data[1]\r\n",
    "x_test, y_test = data[2]\r\n",
    "\r\n",
    "x_train_valid = np.concatenate((x_train, x_valid), axis=0)\r\n",
    "y_train_valid = np.concatenate((y_train, y_valid), axis=0)"
   ],
   "outputs": [],
   "metadata": {}
  },
  {
   "cell_type": "code",
   "execution_count": 19,
   "source": [
    "svc1 = SVC()\r\n",
    "svc1.fit(x_train, y_train)\r\n",
    "\r\n",
    "y_pred = svc1.predict(x_train)\r\n",
    "\r\n",
    "y_pred_val = svc1.predict(x_valid)"
   ],
   "outputs": [],
   "metadata": {}
  },
  {
   "cell_type": "code",
   "execution_count": 20,
   "source": [
    "# Training accuracy\r\n",
    "print(\"Training accuracy: \", svc1.score(x_train, y_train))\r\n",
    "\r\n",
    "# Valid data accuracy\r\n",
    "print(\"Validation accuracy: \", svc1.score(x_valid, y_valid))\r\n",
    "\r\n",
    "print(classification_report(y_train, y_pred))"
   ],
   "outputs": [
    {
     "output_type": "stream",
     "name": "stdout",
     "text": [
      "Training accuracy:  0.6748681898066784\n",
      "Validation accuracy:  0.647887323943662\n",
      "              precision    recall  f1-score   support\n",
      "\n",
      "           0       0.67      0.94      0.78       355\n",
      "           1       0.69      0.24      0.36       214\n",
      "\n",
      "    accuracy                           0.67       569\n",
      "   macro avg       0.68      0.59      0.57       569\n",
      "weighted avg       0.68      0.67      0.62       569\n",
      "\n"
     ]
    }
   ],
   "metadata": {}
  },
  {
   "cell_type": "code",
   "execution_count": 21,
   "source": [
    "model = SVC()\r\n",
    "param_grid = [    \r\n",
    "    {\r\n",
    "    'kernel' : ['linear', 'poly', 'rbf'],\r\n",
    "    'C' : np.logspace(1e-5, 1e5, 20),\r\n",
    "    'max_iter' : [10000] \r\n",
    "    }\r\n",
    "]\r\n",
    "\r\n",
    "clf = GridSearchCV(model, param_grid = param_grid, cv = 10, verbose=True, n_jobs=-1)\r\n",
    "best_clf = clf.fit(x_train, y_train)"
   ],
   "outputs": [
    {
     "output_type": "stream",
     "name": "stdout",
     "text": [
      "Fitting 10 folds for each of 60 candidates, totalling 600 fits\n"
     ]
    },
    {
     "output_type": "stream",
     "name": "stderr",
     "text": [
      "C:\\Users\\seit-\\miniconda3\\envs\\cps803\\lib\\site-packages\\numpy\\core\\function_base.py:265: RuntimeWarning: overflow encountered in power\n",
      "  return _nx.power(base, y)\n"
     ]
    }
   ],
   "metadata": {}
  },
  {
   "cell_type": "code",
   "execution_count": 22,
   "source": [
    "best_clf.best_estimator_"
   ],
   "outputs": [
    {
     "output_type": "execute_result",
     "data": {
      "text/plain": [
       "SVC(C=1.0000230261160268, max_iter=10000)"
      ]
     },
     "metadata": {},
     "execution_count": 22
    }
   ],
   "metadata": {}
  },
  {
   "cell_type": "code",
   "execution_count": 23,
   "source": [
    "print (f'Accuracy Train : {best_clf.score(x_train, y_train):.3f}')\r\n",
    "print (f'Accuracy Valid : {best_clf.score(x_valid, y_valid):.3f}')"
   ],
   "outputs": [
    {
     "output_type": "stream",
     "name": "stdout",
     "text": [
      "Accuracy Train : 0.675\n",
      "Accuracy Valid : 0.648\n"
     ]
    }
   ],
   "metadata": {}
  }
 ],
 "metadata": {
  "orig_nbformat": 4,
  "language_info": {
   "name": "python",
   "version": "3.6.6",
   "mimetype": "text/x-python",
   "codemirror_mode": {
    "name": "ipython",
    "version": 3
   },
   "pygments_lexer": "ipython3",
   "nbconvert_exporter": "python",
   "file_extension": ".py"
  },
  "kernelspec": {
   "name": "python3",
   "display_name": "Python 3.6.6 64-bit (conda)"
  },
  "interpreter": {
   "hash": "4e109ef7d02b78112cf81edcb9c1d96d498f910d066cd1696356e38546cd7013"
  }
 },
 "nbformat": 4,
 "nbformat_minor": 2
}